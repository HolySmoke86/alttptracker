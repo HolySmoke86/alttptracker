{
 "cells": [
  {
   "cell_type": "markdown",
   "metadata": {},
   "source": [
    "To be run from a local copy of SpriteSomething with the following minor modifications to get_tracker_images:\n",
    "\n",
    "``` python\n",
    "def get_tracker_images(self):\n",
    "        '''\n",
    "        Crossproduct Tracker Images\n",
    "        '''\n",
    "        return_images = []\n",
    "\n",
    "        #cycle through mail levels\n",
    "        for i,mail in enumerate([\"green\",\"blue\",\"red\"]):\n",
    "            #get a container for tile lists\n",
    "            tile_list = {}\n",
    "            #get Bunny tile list for Stand:down to grab the bunny head\n",
    "            tile_list[\"bunny\"] = self.get_tiles_for_pose(\"Bunny stand\",\"down\",0,[\"bunny_mail\" if mail == 'green' else mail + \"_mail\"],0)\n",
    "            #get Link tile list for File select for base\n",
    "            tile_list[\"link\"] = self.get_tiles_for_pose(\"File select\",\"right\",0,[mail + \"_mail\"],0)\n",
    "            #get the bunny head\n",
    "            # bunny_head = tile_list[\"bunny\"][2]\n",
    "            #copy Link over Bunny\n",
    "            # tile_list[\"bunny\"] = tile_list[\"link\"] + []\n",
    "            #set the bunny head\n",
    "            # tile_list[\"bunny\"][1] = bunny_head\n",
    "\n",
    "            #cycle through tile lists\n",
    "            for tileset_id, tile_set in tile_list.items():\n",
    "                #make src image from tile list\n",
    "                src_img,_ = self.assemble_tiles_to_completed_image(tile_set)\n",
    "                #crop out the actual pixels\n",
    "                if tileset_id != \"bunny\":\n",
    "                    src_img = src_img.crop((5,7,21,29))\n",
    "                #make a new 32x32 transparent image\n",
    "                dest_img = Image.new(\"RGBA\",(32,32))\n",
    "                #paste the pixels to (7,7)\n",
    "                dest_img.paste(src_img,(7,6))\n",
    "                #resize using nearest neighbor to 400% because that's what Cross' tracker uses\n",
    "                dest_img = dest_img.resize((32*4,32*4),Image.NEAREST)\n",
    "                #save to disk\n",
    "                filename = \"tunic\"\n",
    "                if tileset_id == \"bunny\":\n",
    "                    filename += \"bunny\"\n",
    "                filename += str(i+1)\n",
    "                filename += \".png\"\n",
    "                return_images.append((filename,dest_img))\n",
    "\n",
    "        return return_images\n",
    "```"
   ]
  },
  {
   "cell_type": "code",
   "execution_count": null,
   "metadata": {},
   "outputs": [],
   "source": [
    "from source.snes.zelda3.link import sprite as link_sprite\n",
    "import ast\n",
    "from tests.legacy.common_vars import LINK_RESOURCE_SUBPATH\n",
    "import re\n",
    "import requests"
   ]
  },
  {
   "cell_type": "code",
   "execution_count": null,
   "metadata": {},
   "outputs": [],
   "source": [
    "baseurl = 'https://alttpr-assets.s3.us-east-2.amazonaws.com/'\n",
    "\n",
    "sprite_list = requests.get(baseurl + 'sprites.json').json()\n",
    "php_list = requests.get('https://github.com/sporchia/alttp_vt_randomizer/raw/master/config/sprites.php').text"
   ]
  },
  {
   "cell_type": "code",
   "execution_count": null,
   "metadata": {},
   "outputs": [],
   "source": [
    "php_list = php_list.replace('\\n', '').replace('<?php', '').replace(';', '').replace(' => ', ': ').replace('[', '{').replace(']', '}').replace('return', '')"
   ]
  },
  {
   "cell_type": "code",
   "execution_count": null,
   "metadata": {},
   "outputs": [],
   "source": [
    "php_list = php_list[1:]"
   ]
  },
  {
   "cell_type": "code",
   "execution_count": null,
   "metadata": {},
   "outputs": [],
   "source": [
    "all_sprites = ast.literal_eval(php_list)"
   ]
  },
  {
   "cell_type": "code",
   "execution_count": null,
   "metadata": {},
   "outputs": [],
   "source": [
    "all_sprites_list = [all_sprites[sprite] for sprite in all_sprites]"
   ]
  },
  {
   "cell_type": "code",
   "execution_count": null,
   "metadata": {},
   "outputs": [],
   "source": [
    "for sprite in sprite_list:\n",
    "    if sprite['file'] not in all_sprites:\n",
    "        print(f\"Missing sprite {sprite['file']}\")\n",
    "        all_sprites_list.append(sprite)"
   ]
  },
  {
   "cell_type": "code",
   "execution_count": null,
   "metadata": {},
   "outputs": [],
   "source": [
    "sprite_list_sorted = sorted(all_sprites_list, key=lambda x: x['name'].lower())"
   ]
  },
  {
   "cell_type": "code",
   "execution_count": null,
   "metadata": {},
   "outputs": [],
   "source": [
    "import os"
   ]
  },
  {
   "cell_type": "code",
   "execution_count": null,
   "metadata": {},
   "outputs": [],
   "source": [
    "for sprite in sprite_list_sorted:\n",
    "    if os.path.exists(f\"sprites/{sprite['file']}\"):\n",
    "        continue\n",
    "    r = requests.get(baseurl + sprite['file'])\n",
    "    if r.status_code != 200:\n",
    "        print(f\"Failed to download {sprite['file']}\")\n",
    "        continue\n",
    "    with open(f\"sprites/{sprite['file'].split('/')[-1]}\", 'wb') as f:\n",
    "        f.write(r.content)\n"
   ]
  },
  {
   "cell_type": "code",
   "execution_count": null,
   "metadata": {},
   "outputs": [],
   "source": [
    "len(sprite_list_sorted)"
   ]
  },
  {
   "cell_type": "code",
   "execution_count": null,
   "metadata": {},
   "outputs": [],
   "source": [
    "import collections as c"
   ]
  },
  {
   "cell_type": "code",
   "execution_count": null,
   "metadata": {},
   "outputs": [],
   "source": [
    "processed_sprites = {}\n",
    "to_delete = []\n",
    "for n, sprite in enumerate(sprite_list_sorted):\n",
    "    if sprite[\"name\"] in processed_sprites and processed_sprites[sprite[\"name\"]] > sprite[\"version\"]:\n",
    "        to_delete.append(n)\n",
    "        continue\n",
    "    processed_sprites[sprite[\"name\"]] = sprite[\"version\"]"
   ]
  },
  {
   "cell_type": "code",
   "execution_count": null,
   "metadata": {},
   "outputs": [],
   "source": [
    "to_delete"
   ]
  },
  {
   "cell_type": "code",
   "execution_count": null,
   "metadata": {},
   "outputs": [],
   "source": [
    "for n in reversed(to_delete):\n",
    "    del sprite_list_sorted[n]"
   ]
  },
  {
   "cell_type": "code",
   "execution_count": null,
   "metadata": {},
   "outputs": [],
   "source": [
    "with open('sprites/001.link.1.zspr', 'wb') as f:\n",
    "    link = requests.get('https://github.com/Zarby89/Enemizer/raw/09b890d15560cb1c810832bdc97a440ae569c55e/EnemizerCLI.Core/sprites/001.link.1.zspr').content\n",
    "    f.write(link)"
   ]
  },
  {
   "cell_type": "code",
   "execution_count": null,
   "metadata": {},
   "outputs": [],
   "source": [
    "import json"
   ]
  },
  {
   "cell_type": "code",
   "execution_count": null,
   "metadata": {},
   "outputs": [],
   "source": [
    "css_names = {\n",
    "    \"tunicbunny1.png\": \"active-1.bunny\",\n",
    "    \"tunicbunny2.png\": \"active-2.bunny\",\n",
    "    \"tunicbunny3.png\": \"active-3.bunny\",\n",
    "    \"tunic1.png\": \"active-1\",\n",
    "    \"tunic2.png\": \"active-2\",\n",
    "    \"tunic3.png\": \"active-3\",\n",
    "}\n",
    "manifest_dict = json.load(open('resources/app/snes/zelda3/manifests/manifest.json', 'r'))\n",
    "with open('sprites.css', 'w') as fcss, open('sprite_selection.html', 'w') as fhtml:\n",
    "    for sprite in sprite_list_sorted:\n",
    "        manifest_dict['name'] = sprite['name']\n",
    "        ss_sprite = link_sprite.Sprite(\n",
    "            f'./sprites/{sprite[\"file\"]}',\n",
    "            manifest_dict=manifest_dict,\n",
    "            my_subpath=LINK_RESOURCE_SUBPATH,\n",
    "            sprite_name=sprite[\"name\"],\n",
    "        )\n",
    "        images = ss_sprite.get_representative_images(style=\"crossproduct\")\n",
    "        sprite_pname = re.sub('[^0-9a-zA-Z]+', '_', sprite[\"name\"])\n",
    "        while \"__\" in sprite_pname:\n",
    "            sprite_pname = sprite_pname.replace(\"__\", \"_\")\n",
    "        sprite_pname = sprite_pname.strip('_').strip().lower()\n",
    "        if sprite_pname == 'tunic':\n",
    "            sprite_pname = 'tunic_'\n",
    "        images = sorted(images, key=lambda x: x[0])\n",
    "        for i, (img_name, img) in enumerate(images):\n",
    "            img.save(f\"./sprite_images/{sprite_pname}_{img_name}\")\n",
    "            fcss.write(f'.tunic.{sprite_pname}.{css_names.get(img_name, img_name)}' + ' { ' + f'background-image: url(../images/sprites/{sprite_pname}_{img_name}); background-size:100%; float:left; ' + '}\\n')\n",
    "        if sprite[\"name\"] == \"Link\":\n",
    "            fhtml.write(f'<option value=\"{sprite_pname}\" selected>{sprite[\"name\"]}</option>\\n')\n",
    "        else:\n",
    "            fhtml.write(f'<option value=\"{sprite_pname}\">{sprite[\"name\"]}</option>\\n')\n"
   ]
  },
  {
   "cell_type": "code",
   "execution_count": null,
   "metadata": {},
   "outputs": [],
   "source": [
    "# Manually add Link"
   ]
  }
 ],
 "metadata": {
  "kernelspec": {
   "display_name": "Python 3",
   "language": "python",
   "name": "python3"
  },
  "language_info": {
   "codemirror_mode": {
    "name": "ipython",
    "version": 3
   },
   "file_extension": ".py",
   "mimetype": "text/x-python",
   "name": "python",
   "nbconvert_exporter": "python",
   "pygments_lexer": "ipython3",
   "version": "3.12.1"
  }
 },
 "nbformat": 4,
 "nbformat_minor": 2
}
